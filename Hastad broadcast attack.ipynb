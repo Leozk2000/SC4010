{
 "cells": [
  {
   "cell_type": "markdown",
   "metadata": {},
   "source": [
    "# Breaking RSA - Hastad's broadcast attack"
   ]
  },
  {
   "cell_type": "markdown",
   "metadata": {},
   "source": [
    "#### Imagine a message m is encrypted differently and sent out to multiple people. \n",
    "\n",
    "**Hastad's broadcast attack** states as soon as the number of ciphertexts(and their corresponding public keys e, N) is approximately e, m is no longer secure. \n",
    "\n",
    "We can recover m using **Chinese Remainder Theorem(CRT)**."
   ]
  },
  {
   "cell_type": "markdown",
   "metadata": {},
   "source": [
    "Conditions for CRT to work:\n",
    "\n",
    "    1. encrypted with the same small public exponent e\n",
    "    2. modulus N used are relatively coprime eg. gcd(N1,N2)=1"
   ]
  },
  {
   "cell_type": "markdown",
   "metadata": {},
   "source": [
    "We are showcasing this attack for:\n",
    "\n",
    " - **unpadded message**\n",
    " - **linearly padded message**"
   ]
  },
  {
   "cell_type": "markdown",
   "metadata": {},
   "source": [
    "### Importing libraries"
   ]
  },
  {
   "cell_type": "code",
   "execution_count": 1,
   "metadata": {},
   "outputs": [],
   "source": [
    "import binascii\n",
    "import random\n",
    "from textwrap import wrap"
   ]
  },
  {
   "cell_type": "markdown",
   "metadata": {},
   "source": [
    "### Utility functions"
   ]
  },
  {
   "cell_type": "markdown",
   "metadata": {},
   "source": [
    "string to ascii conversion"
   ]
  },
  {
   "cell_type": "code",
   "execution_count": 2,
   "metadata": {},
   "outputs": [],
   "source": [
    "def convert_to_ascii(message):\n",
    "    ascii_message = \"\"\n",
    "    for char in message:\n",
    "        ascii_char = ord(char)\n",
    "        ascii_char = str(ascii_char)\n",
    "        ascii_char = ascii_char.zfill(3)\n",
    "        ascii_message += ascii_char\n",
    "    return int(ascii_message)"
   ]
  },
  {
   "cell_type": "markdown",
   "metadata": {},
   "source": [
    "ascii to string conversion"
   ]
  },
  {
   "cell_type": "code",
   "execution_count": 3,
   "metadata": {},
   "outputs": [],
   "source": [
    "def convert_to_string(ascii_message):\n",
    "    message = \"\"\n",
    "    ascii_message = str(ascii_message)\n",
    "    if(len(ascii_message) % 3 != 0):\n",
    "        for _ in range(3 - len(ascii_message) % 3):\n",
    "            ascii_message = \"0\" + ascii_message\n",
    "    ascii_list = wrap(ascii_message, 3)\n",
    "    for ascii in ascii_list:\n",
    "        message = message + chr(int(ascii))\n",
    "    return message"
   ]
  },
  {
   "cell_type": "markdown",
   "metadata": {},
   "source": [
    "## Unpadded Message Attack"
   ]
  },
  {
   "cell_type": "markdown",
   "metadata": {},
   "source": [
    "Hastad function:"
   ]
  },
  {
   "cell_type": "code",
   "execution_count": 4,
   "metadata": {},
   "outputs": [],
   "source": [
    "def hastad(ciphertexts, moduli, e=3):\n",
    "\n",
    "    if not (len(ciphertexts) == len(moduli) == e):\n",
    "            raise RuntimeError(\"Uneven moduli and ciphertext arrays/insufficient elements !=e \")\n",
    "\n",
    "    M = crt(ciphertexts, moduli)\n",
    "    m = 10^(log(M, base=10)/e)\n",
    "\n",
    "    return m"
   ]
  },
  {
   "cell_type": "markdown",
   "metadata": {},
   "source": [
    "attack function:"
   ]
  },
  {
   "cell_type": "code",
   "execution_count": 5,
   "metadata": {},
   "outputs": [],
   "source": [
    "def attack(message, key, bits):\n",
    "    m = convert_to_ascii(message)\n",
    "    e = key\n",
    "    \n",
    "    ciphertexts = []\n",
    "    moduli = []\n",
    "    bound = 2^bits\n",
    "\n",
    "    for i in range(e):\n",
    "        p = random_prime(bound,proof=false)\n",
    "        q = random_prime(bound,proof=false)\n",
    "        n = p*q\n",
    "        c = Integer(pow(m, e, n))\n",
    "        moduli += [Integer(n)]\n",
    "        ciphertexts += [c]\n",
    "\n",
    "    print(\"Moduli used\")\n",
    "    print(moduli)\n",
    "    print(\"\")\n",
    "    print(\"Ciphertext outputs\")\n",
    "    print(ciphertexts)\n",
    "    print(\"\")\n",
    "    \n",
    "    m1 = convert_to_string(hastad(ciphertexts,moduli,e))\n",
    "    print(\"Recovered message is: \" + m1)\n",
    "    print(\"Original message is: \" + message)\n",
    "\n",
    "    return"
   ]
  },
  {
   "cell_type": "code",
   "execution_count": 6,
   "metadata": {},
   "outputs": [
    {
     "name": "stdout",
     "output_type": "stream",
     "text": [
      "Moduli used\n",
      "[32413645819554304421438637062219378016326819304326437417772383917565682116966405657700422479652509569469516120254007714727970719021518850483432014675520280020412287269708418863405251879586810777416124475672972698981933487288131554326431832916969088500165517501441045224567442055739852974855173767893272514949, 18516716207763613898345657340734766848206886086047888326362356184119379095389905678902758058268075955091128701480793112936171938516088108155145650654844066424725694641642415135762516857368177125642760025655682075780438840983142458886188456310068274879040622309385535552869825790519634895050978327973498126137, 19675686843096276698955796781232412005768179617826957695246174663685363913353112058365573177150646906066445797717061480725785735455464016243715599766409953843210729664575390047513390053580609418813501813065867672822126836798169944057745984840690251373499425755396283618653499820966589636911732041151708746081]\n",
      "\n",
      "Ciphertext outputs\n",
      "[1158687300551534297586727659838789995487369191955663327780248684447614718184416385441114641588155156787126858798592, 1158687300551534297586727659838789995487369191955663327780248684447614718184416385441114641588155156787126858798592, 1158687300551534297586727659838789995487369191955663327780248684447614718184416385441114641588155156787126858798592]\n",
      "\n",
      "Recovered message is: i love sc4010\n",
      "Original message is: i love sc4010\n"
     ]
    }
   ],
   "source": [
    "message = \"i love sc4010\"\n",
    "e = 3\n",
    "pqbits = 512\n",
    "\n",
    "#debug stuffz\n",
    "#moduli = [6,35,143]\n",
    "#ciphertexts = [5,20,125]\n",
    "\n",
    "attack(message, e, pqbits)"
   ]
  },
  {
   "cell_type": "markdown",
   "metadata": {},
   "source": [
    "## Linearly Padded Message Attack"
   ]
  },
  {
   "cell_type": "markdown",
   "metadata": {},
   "source": [
    "Hastad function (linear padding version):"
   ]
  },
  {
   "cell_type": "code",
   "execution_count": 7,
   "metadata": {},
   "outputs": [],
   "source": [
    "def hastad_padding(ciphertexts, moduli, pad_array, const_array=(), e=3, eps=1/8):\n",
    "    if not(len(ciphertexts) == len(moduli) == len(pad_array) == len(const_array) == e):\n",
    "        raise RuntimeError(\"Uneven arrays lengths/insufficient elements !=e \")\n",
    "\n",
    "    #initialising of arrays\n",
    "    coeff_array = [Integer(0)]*e #CRT coeff\n",
    "    crt_array = [Integer(0)]*e\n",
    "    polynomial_array = []\n",
    "\n",
    "    for i in range(e):\n",
    "        crt_array = [0]*e\n",
    "        crt_array[i] = 1\n",
    "        coeff_array[i] = Integer(crt(crt_array,moduli))\n",
    "\n",
    "    G.<x> = PolynomialRing(Zmod(prod(moduli)))\n",
    "    for i in range(e):\n",
    "        #polynomial f(x) = (A*x + b) ^ e - C where (A*x + b) is the padding polynomial\n",
    "        polynomial_array += [coeff_array[i]*((pad_array[i]*x+const_array[i])^e - Integer(ciphertexts[i]))]\n",
    "\n",
    "    g = sum(polynomial_array).monic()  #Creates monic polynomial, coeff of highest x deg = 1\n",
    "    roots = g.small_roots(epsilon=eps)\n",
    "    return roots[0] if len(roots) >= 1 else print(\"Message lost!\")"
   ]
  },
  {
   "cell_type": "markdown",
   "metadata": {},
   "source": [
    "attack function:"
   ]
  },
  {
   "cell_type": "code",
   "execution_count": 8,
   "metadata": {},
   "outputs": [],
   "source": [
    "def attack2(message, key, padbits,pqbits):\n",
    "    moduli = []\n",
    "    ciphertexts = []\n",
    "    pad_array = []\n",
    "    const_array = []\n",
    "    e = key\n",
    "    pad_bound = 2^padbits\n",
    "    prime_bound = 2^pqbits\n",
    "    m = convert_to_ascii(message)\n",
    "\n",
    "    for i in range(e):\n",
    "        pad = random.randint(0,pad_bound)\n",
    "        constant = random.randint(0,pad_bound)\n",
    "        pad_array += [pad]\n",
    "        const_array += [constant]\n",
    "        p = random_prime(prime_bound,proof=false)\n",
    "        q = random_prime(prime_bound,proof=false)\n",
    "        n = p*q\n",
    "        moduli += [n]\n",
    "        ciphertexts.append(pow(pad * m + constant,e,n))\n",
    "    \n",
    "    print(\"Moduli used\")\n",
    "    print(moduli)\n",
    "    print(\"\")\n",
    "    print(\"Ciphertexts outputs\")\n",
    "    print(ciphertexts)\n",
    "    print(\"\")\n",
    "    print(\"padding polynomial (A*x + b)\")\n",
    "    print(\"pad array A\")\n",
    "    print(pad_array)\n",
    "    print(\"\")\n",
    "    print(\"const array b\")\n",
    "    print(const_array)\n",
    "    print(\"\")\n",
    "    \n",
    "    \n",
    "    m1 = convert_to_string(hastad_padding(ciphertexts, moduli, pad_array, const_array, e))\n",
    "    print(\"Recovered message is: \" + m1)\n",
    "    print(\"Original message is: \" + message)\n",
    "    return"
   ]
  },
  {
   "cell_type": "code",
   "execution_count": 9,
   "metadata": {},
   "outputs": [
    {
     "name": "stdout",
     "output_type": "stream",
     "text": [
      "Moduli used\n",
      "[53772409441914783920514901078785627755512541070269020850919599870521446597461981015929180148280818429389504634671900236511628534247985370272419047173099656988878711789777403656834031858155957770522026449381448613468553259717863843723824995255095829765437369315834565573203745071649299032940136019258126809831, 20724685941272628214108980919991494946822267898745569945108589334792001835561953619438306011991044462693032496145274937474106097508073195813741461836612742622205947484921910969736134844296684575769999792895344059746325104799921880393200534103148335832667036059212204528838392134054645010603737844520562828677, 12645210757523575567250668700262967222194743491668849825321420549849006245035045540890287904882408615107694763033958755563587387694268305970786755105674992799971187848474394151248985628648341920815998334049235490770245850782695649172588457898636533255568400476473839727893182626043103883020182015436601753699]\n",
      "\n",
      "Ciphertexts outputs\n",
      "[8795446666991588483187422051469627407759561455096199675268011351440352353588967595243638428471919436705593413349867443651089592195009217551257697488497734627709857466697821656687320969604204403777883962084650409939159880125545166349362281741922642485553482342087193779995522351093268698009904643509791786763, 6645503769632725957444888857547845311134804116182592959747913735308829824254350165101507980160706524001909449520244867279586272280643398095199008149760054635319895300836818677454263923147015099824511027523840966458515348690799026240775018049027578875560272072716037472387434792842430288498917675038725737397, 11348548007496755334081514628515010626472534785532243614901529618266941097877340743393216979446080236327841343920676504694683062695033018105402614822656468794629820574694566986574016309830662102428137108583874374846080364464867797960879276112844554344487637805522670525273915054181459582729917682234967665889]\n",
      "\n",
      "padding polynomial (A*x + b)\n",
      "pad array A\n",
      "[69250645836742474156927312411700975793068353041273333663854037030965927305603, 84985567106532729262731687665467494511626600797406799786989579628651870873712, 87458456840051040947020367365124116496491293135328955127989579412434939140413]\n",
      "\n",
      "const array b\n",
      "[43542868733091437385105880031606555314804771592213480748633042975946635609140, 75067499297054926796832136974864469040411419769043600916964806979963775032519, 79734579872893959118926495198059695400959314161933967808966345699099127008297]\n",
      "\n",
      "Recovered message is: i dislike presentation\n",
      "Original message is: i dislike presentation\n"
     ]
    }
   ],
   "source": [
    "message = \"i dislike presentation\"\n",
    "e = 3\n",
    "padbits = 256\n",
    "pqbits = 512\n",
    "\n",
    "attack2(message, e, padbits, pqbits)"
   ]
  },
  {
   "cell_type": "markdown",
   "metadata": {},
   "source": [
    "## Conclusion"
   ]
  },
  {
   "cell_type": "markdown",
   "metadata": {},
   "source": [
    "As seen in the 2 variations of Hastad broadcast attacks, CRT is capable of recovering the secret message m. \n",
    "\n",
    "These attacks can be prevented by using larger e values as there will be insufficient ciphertexts to conduct the attack.\n",
    "\n",
    "Padding of secret message m should also be randomised instead of linearly padded(as seen by pad array A)"
   ]
  },
  {
   "cell_type": "markdown",
   "metadata": {},
   "source": [
    "## References"
   ]
  },
  {
   "cell_type": "markdown",
   "metadata": {},
   "source": [
    "http://koclab.cs.ucsb.edu/teaching/cren/project/2017/chennagiri.pdf\n",
    "\n",
    "https://docs.xanhacks.xyz/crypto/rsa/08-hastad-broadcast-attack/\n",
    "\n",
    "https://en.wikipedia.org/wiki/Coppersmith%27s_attack#:~:text=modulo%20a%20composite%20.-,H%C3%A5stad's%20broadcast%20attack,%2C%20say%20%2C%20and%20different%20moduli%20."
   ]
  }
 ],
 "metadata": {
  "kernelspec": {
   "display_name": "SageMath 9.3",
   "language": "sage",
   "name": "sagemath"
  },
  "language_info": {
   "codemirror_mode": {
    "name": "ipython",
    "version": 3
   },
   "file_extension": ".py",
   "mimetype": "text/x-python",
   "name": "python",
   "nbconvert_exporter": "python",
   "pygments_lexer": "ipython3",
   "version": "3.7.10"
  }
 },
 "nbformat": 4,
 "nbformat_minor": 4
}
